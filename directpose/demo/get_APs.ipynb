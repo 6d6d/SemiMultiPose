{
 "cells": [
  {
   "cell_type": "code",
   "execution_count": null,
   "metadata": {},
   "outputs": [],
   "source": [
    "# import matplotlib.pyplot as plt\n",
    "import matplotlib.pylab as pylab\n",
    "import cv2\n",
    "import math\n",
    "import torch\n",
    "import matplotlib\n",
    "import matplotlib.pyplot as plt\n",
    "from mpl_toolkits.axes_grid1.axes_divider import make_axes_locatable\n",
    "import numpy as np\n",
    "import matplotlib.colorbar as colorbar\n",
    "import pickle\n",
    "import json\n",
    "import requests\n",
    "from io import BytesIO\n",
    "from PIL import Image\n",
    "from maskrcnn_benchmark.utils import cv2_util\n",
    "from scipy.ndimage import gaussian_filter\n",
    "\n",
    "from moviepy.editor import VideoFileClip\n",
    "\n",
    "# this makes our figures bigger\n",
    "pylab.rcParams['figure.figsize'] = 20*1.5, 12*1.5\n",
    "\n",
    "from maskrcnn_benchmark.config import cfg\n",
    "from maskrcnn_benchmark.data.datasets.evaluation import evaluate\n",
    "from maskrcnn_benchmark.data import make_data_loader\n",
    "from predictor import COCODemo"
   ]
  },
  {
   "cell_type": "code",
   "execution_count": null,
   "metadata": {},
   "outputs": [],
   "source": [
    "# get data loader with ground truth predictions\n",
    "config_file = \"/home/bsb2144/directpose/configs/fcos/fcos_kps_ms_training_R_50_FPN_1x.yaml\"\n",
    "\n",
    "cfg.merge_from_file(config_file)\n",
    "cfg.merge_from_list(['DATALOADER.NUM_WORKERS', '2', \\\n",
    "                     'DATATYPE', 'bee', \\\n",
    "                     'OUTPUT_DIR', 'training_dir/fcos_kps_ms_training_R_50_FPN_1x_bee1', \\\n",
    "                     'MODEL.WEIGHT', '/home/bsb2144/directpose/tools/training_dir/fcos_kps_ms_training_R_50_FPN_1x_bee/mode.pth',\\\n",
    "                     'DATASETS.TEST', \"('bee_val_cocostyle',)\",\\\n",
    "                     'DATASETS.TRAIN', \"('bee_val_cocostyle', )\",\\\n",
    "                    ])\n",
    "\n",
    "data_loader = make_data_loader(cfg, just_dataset=True)\n"
   ]
  },
  {
   "cell_type": "code",
   "execution_count": null,
   "metadata": {},
   "outputs": [],
   "source": [
    "# calculate APs\n",
    "\n",
    "json_file = 'predictions.json'\n",
    "\n",
    "with open(json_file, 'rb') as f:\n",
    "    predictions = pickle.load(f)\n",
    "\n",
    "aps = evaluate(data_loader, predictions, 'pathhe')[0]\n",
    "aps = aps.results['keypoints']\n"
   ]
  },
  {
   "cell_type": "code",
   "execution_count": null,
   "metadata": {},
   "outputs": [],
   "source": [
    "# save AP results to pickle\n",
    "with open('pickle_results', 'wb') as f:\n",
    "    pickle.dump(aps, f)"
   ]
  },
  {
   "cell_type": "markdown",
   "metadata": {},
   "source": [
    "#### "
   ]
  }
 ],
 "metadata": {
  "kernelspec": {
   "display_name": "Python 3",
   "language": "python",
   "name": "python3"
  },
  "language_info": {
   "codemirror_mode": {
    "name": "ipython",
    "version": 3
   },
   "file_extension": ".py",
   "mimetype": "text/x-python",
   "name": "python",
   "nbconvert_exporter": "python",
   "pygments_lexer": "ipython3",
   "version": "3.7.0"
  }
 },
 "nbformat": 4,
 "nbformat_minor": 1
}
