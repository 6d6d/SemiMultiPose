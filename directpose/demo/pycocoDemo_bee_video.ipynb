{
 "cells": [
  {
   "cell_type": "code",
   "execution_count": 1,
   "metadata": {},
   "outputs": [],
   "source": [
    "import matplotlib.pyplot as plt\n",
    "import matplotlib.pylab as pylab\n",
    "import cv2\n",
    "\n",
    "import requests\n",
    "from io import BytesIO\n",
    "from PIL import Image\n",
    "import numpy as np\n",
    "\n",
    "from moviepy.editor import VideoFileClip\n",
    "\n",
    "# this makes our figures bigger\n",
    "pylab.rcParams['figure.figsize'] = 20, 12\n",
    "\n",
    "from maskrcnn_benchmark.config import cfg\n",
    "from maskrcnn_benchmark.structures.keypoint import keypoints_to_heat_map\n",
    "from maskrcnn_benchmark.modeling.roi_heads.keypoint_head.loss import project_keypoints_to_heatmap\n",
    "from predictor import COCODemo"
   ]
  },
  {
   "cell_type": "code",
   "execution_count": 2,
   "metadata": {},
   "outputs": [],
   "source": [
    "config_file = \"/home/bsb2144/directpose/configs/fcos/fcos_kps_ms_training_R_50_FPN_1x.yaml\"\n",
    "\n",
    "cfg.merge_from_file(\"/home/bsb2144/directpose/configs/fcos/fcos_kps_ms_training_R_50_FPN_1x.yaml\")\n",
    "cfg.merge_from_list(['DATALOADER.NUM_WORKERS', '2', \\\n",
    "                     'DATATYPE', 'bee', \\\n",
    "                     'OUTPUT_DIR', 'training_dir_v2/fcos_kps_ms_training_R_50_FPN_1x_bee1', \\\n",
    "                     'MODEL.WEIGHT', '/home/bsb2144/directpose/tools/training_dir_v2/fcos_kps_ms_training_R_50_FPN_1x_bee1/model_final.pth',\\\n",
    "                     'DATASETS.TEST', \"('bee_val_cocostyle',)\",\\\n",
    "                     'DATASETS.TRAIN', \"('bee_train_cocostyle', )\",\\\n",
    "                    ])\n",
    "\n"
   ]
  },
  {
   "cell_type": "code",
   "execution_count": 3,
   "metadata": {},
   "outputs": [],
   "source": [
    "coco_demo = COCODemo(\n",
    "    cfg,\n",
    "    min_image_size=800,\n",
    "    confidence_threshold=0.2,\n",
    ")\n"
   ]
  },
  {
   "cell_type": "code",
   "execution_count": 4,
   "metadata": {},
   "outputs": [],
   "source": [
    "def load(img_path):\n",
    "    \"\"\"\n",
    "    Given an url of an image, downloads the image and\n",
    "    returns a PIL image\n",
    "    \"\"\"\n",
    "    \n",
    "    pil_image = Image.open(img_path).convert(\"RGB\")\n",
    "    # convert to BGR format\n",
    "    image = np.array(pil_image)[:, :, [2, 1, 0]]\n",
    "    return image\n",
    "\n",
    "def load_video(video_path,frame_id=[0]):\n",
    "    \"\"\"\n",
    "    Given an url of an image, downloads the image and\n",
    "    returns a PIL image\n",
    "    \"\"\"\n",
    "    \n",
    "    video_clip = VideoFileClip(video_path)\n",
    "    if frame_id is None:\n",
    "        nframes = int(video_clip.fps * video_clip.duration)\n",
    "        frame_id = range(nframes)\n",
    "    images = []\n",
    "    for i in frame_id:\n",
    "        image = video_clip.get_frame(i/video_clip.fps)\n",
    "        # convert to BGR format\n",
    "        image = np.array(image)[:, :, [2, 1, 0]]\n",
    "        images += [image]\n",
    "    video_clip.close()\n",
    "    \n",
    "    return images\n",
    "\n",
    "def imshow(img):\n",
    "    plt.imshow(img[:, :, [2, 1, 0]])\n",
    "    plt.axis(\"off\")"
   ]
  },
  {
   "cell_type": "code",
   "execution_count": 5,
   "metadata": {},
   "outputs": [],
   "source": [
    "#keypoints_to_heat_map(1,1,1)"
   ]
  },
  {
   "cell_type": "code",
   "execution_count": 6,
   "metadata": {
    "scrolled": false
   },
   "outputs": [],
   "source": [
    "#test_file = 'bee_test.mp4'\n",
    "#frame_index = None\n",
    "#images = load_video(test_file,frame_index)\n",
    "\n",
    "#save_file = 'bee_test_pred.mp4'\n",
    "#fourcc = cv2.VideoWriter_fourcc(*'XVID')\n",
    "#dd1,dd2 = images[0].shape[0],images[0].shape[1]\n",
    "#out = cv2.VideoWriter(save_file, fourcc, 20.0, (dd2,dd1))\n",
    "#for image in images:\n",
    "    # compute predictions\n",
    " #   predictions = coco_demo.run_on_opencv_image(image)\n",
    "\n",
    "  #  out.write(predictions[:, :, [2, 1, 0]].astype(np.uint8))\n",
    "#out.release()\n",
    "\n"
   ]
  },
  {
   "cell_type": "code",
   "execution_count": 7,
   "metadata": {},
   "outputs": [],
   "source": [
    "#BUILDING OWN VISUALIZER\n",
    "\n",
    "#1. obtain heatmap\n",
    "#2. use function to get peaks\n",
    "#3. Overlay peaks onto image\n",
    "#4. voila"
   ]
  },
  {
   "cell_type": "code",
   "execution_count": 8,
   "metadata": {},
   "outputs": [],
   "source": [
    "#test_file = 'bee_test.mp4'\n",
    "#frame_index = None\n",
    "#images = load_video(test_file,frame_index)\n",
    "\n",
    "#save_file = 'bee_test_pred.mp4'\n",
    "#fourcc = cv2.VideoWriter_fourcc(*'XVID')\n",
    "#dd1,dd2 = images[0].shape[0],images[0].shape[1]\n",
    "#out = cv2.VideoWriter(save_file, fourcc, 20.0, (dd2,dd1))\n",
    "# compute predictions\n",
    "#predictions, tp, hm_res, stride, hms = coco_demo.run_on_opencv_image(images[0])\n",
    "#print(predictions)\n",
    "\n",
    "#    out.write(predictions[:, :, [2, 1, 0]].astype(np.uint8))\n",
    "#out.release()\n"
   ]
  },
  {
   "cell_type": "code",
   "execution_count": 9,
   "metadata": {},
   "outputs": [],
   "source": [
    "#print(hms)"
   ]
  },
  {
   "cell_type": "code",
   "execution_count": 10,
   "metadata": {},
   "outputs": [],
   "source": [
    "#print(tp.get_field('keypoints'))"
   ]
  },
  {
   "cell_type": "code",
   "execution_count": 11,
   "metadata": {},
   "outputs": [],
   "source": [
    "#kps = tp.get_field('keypoints')\n",
    "#ds = cfg.MODEL.ROI_MASK_HEAD.RESOLUTION"
   ]
  },
  {
   "cell_type": "code",
   "execution_count": 12,
   "metadata": {},
   "outputs": [],
   "source": [
    "#(keypoints, rois, heatmap_size)\n",
    "#keypoints_to_heat_map(kps,,1)"
   ]
  },
  {
   "cell_type": "code",
   "execution_count": 13,
   "metadata": {},
   "outputs": [],
   "source": [
    "#hms, valid = project_keypoints_to_heatmap(kps, tp, ds)"
   ]
  },
  {
   "cell_type": "code",
   "execution_count": 14,
   "metadata": {},
   "outputs": [],
   "source": [
    "# num keypoints per animal, heatmap\n",
    "def calculate_peaks(numparts, heatmap_avg):\n",
    "    score = np.ones((numparts,)) * 0.000001\n",
    "    all_peaks = []\n",
    "    peak_counter = 0\n",
    "    if len(score) < numparts:\n",
    "        score = score[:numparts]\n",
    "        ##logger.ERROR(‘Not enough scores provided for number of parts’)\n",
    "        # return\n",
    "    # threshold_detection = params[‘thre1’]\n",
    "    # tic_localmax=time.time()\n",
    "    for part in range(numparts):\n",
    "        map_ori = heatmap_avg[:, :, part]\n",
    "        map = map_ori\n",
    "        map_left = np.zeros(map.shape)\n",
    "        map_left[1:, :] = map[:-1, :]\n",
    "        map_right = np.zeros(map.shape)\n",
    "        map_right[:-1, :] = map[1:, :]\n",
    "        map_up = np.zeros(map.shape)\n",
    "        map_up[:, 1:] = map[:, :-1]\n",
    "        map_down = np.zeros(map.shape)\n",
    "        map_down[:, :-1] = map[:, 1:]\n",
    "        peaks_binary = np.logical_and(np.logical_and(np.logical_and(map >= map_left, map >= map_right),\n",
    "                                                     np.logical_and(map >= map_up, map >= map_down)), map > score[part])\n",
    "        peaks = list(zip(np.nonzero(peaks_binary)[1], np.nonzero(peaks_binary)[0]))  # note reverse\n",
    "        peaks_with_score_and_id = [x + (map_ori[x[1], x[0]], i + peak_counter,) for i, x in\n",
    "                                   enumerate(peaks)]  # if x[0]>0 and x[1]>0 ]\n",
    "        all_peaks.append(peaks_with_score_and_id)\n",
    "        peak_counter += len(peaks)\n",
    "    return all_peaks\n",
    "\n"
   ]
  },
  {
   "cell_type": "code",
   "execution_count": 15,
   "metadata": {
    "scrolled": true
   },
   "outputs": [
    {
     "name": "stdout",
     "output_type": "stream",
     "text": [
      "coords\n",
      "tensor([[  0,   0,   3,  62],\n",
      "        [  0,   0,   3, 117],\n",
      "        [  0,   0,  30,  42],\n",
      "        [  0,   0,  40,  58],\n",
      "        [  0,   0,  42,  58],\n",
      "        [  0,   0,  47,  47],\n",
      "        [  0,   0,  59,  62],\n",
      "        [  0,   0,  65, 105],\n",
      "        [  0,   0,  71,  34],\n",
      "        [  0,   0,  75, 129],\n",
      "        [  0,   0,  78,  69],\n",
      "        [  0,   0,  84, 142],\n",
      "        [  0,   1,  40,  57],\n",
      "        [  0,   1,  42,  32],\n",
      "        [  0,   1,  50,  71],\n",
      "        [  0,   1,  55,  38],\n",
      "        [  0,   1,  60,  45],\n",
      "        [  0,   1,  60,  69],\n",
      "        [  0,   1,  70, 149],\n",
      "        [  0,   1,  79,  92],\n",
      "        [  0,   1,  89, 119],\n",
      "        [  0,   2,  37,  52],\n",
      "        [  0,   2,  44,  36],\n",
      "        [  0,   2,  49,  67],\n",
      "        [  0,   2,  60,  34],\n",
      "        [  0,   2,  60,  49],\n",
      "        [  0,   2,  65,  69],\n",
      "        [  0,   2,  71, 145],\n",
      "        [  0,   2,  75, 144],\n",
      "        [  0,   2,  76,  96],\n",
      "        [  0,   2,  84, 124],\n",
      "        [  0,   3,  37,  32],\n",
      "        [  0,   3,  42,  58],\n",
      "        [  0,   3,  52,  72],\n",
      "        [  0,   3,  55,  47],\n",
      "        [  0,   3,  56,  42],\n",
      "        [  0,   3,  56,  45],\n",
      "        [  0,   3,  56,  72],\n",
      "        [  0,   3,  71, 152],\n",
      "        [  0,   3,  73, 152],\n",
      "        [  0,   3,  75, 152],\n",
      "        [  0,   3,  80,  87],\n",
      "        [  0,   3,  89,  62],\n",
      "        [  0,   3,  89, 117],\n",
      "        [  0,   4,  39,  62],\n",
      "        [  0,   4,  43,  31],\n",
      "        [  0,   4,  47,  76],\n",
      "        [  0,   4,  52,  38],\n",
      "        [  0,   4,  56,  45],\n",
      "        [  0,   4,  58,  64],\n",
      "        [  0,   4,  62,  46],\n",
      "        [  0,   4,  71, 152],\n",
      "        [  0,   4,  83,  92]], device='cuda:0')\n",
      "c break\n",
      "[BoxList(num_boxes=12, image_width=1422, image_height=800, mode=xyxy)]\n",
      "None\n",
      "R\n",
      "T\n",
      "coords\n",
      "tensor([[  0,   0,   3,  62],\n",
      "        [  0,   0,   3, 117],\n",
      "        [  0,   0,  30,  42],\n",
      "        [  0,   0,  40,  58],\n",
      "        [  0,   0,  42,  58],\n",
      "        [  0,   0,  47,  47],\n",
      "        [  0,   0,  59,  62],\n",
      "        [  0,   0,  65, 105],\n",
      "        [  0,   0,  71,  34],\n",
      "        [  0,   0,  75, 129],\n",
      "        [  0,   0,  78,  69],\n",
      "        [  0,   0,  84, 142],\n",
      "        [  0,   1,  40,  57],\n",
      "        [  0,   1,  42,  32],\n",
      "        [  0,   1,  50,  71],\n",
      "        [  0,   1,  55,  38],\n",
      "        [  0,   1,  60,  45],\n",
      "        [  0,   1,  60,  69],\n",
      "        [  0,   1,  70, 149],\n",
      "        [  0,   1,  79,  92],\n",
      "        [  0,   1,  89, 119],\n",
      "        [  0,   2,  37,  52],\n",
      "        [  0,   2,  44,  36],\n",
      "        [  0,   2,  49,  67],\n",
      "        [  0,   2,  60,  34],\n",
      "        [  0,   2,  60,  49],\n",
      "        [  0,   2,  65,  69],\n",
      "        [  0,   2,  71, 145],\n",
      "        [  0,   2,  75, 144],\n",
      "        [  0,   2,  76,  96],\n",
      "        [  0,   2,  84, 124],\n",
      "        [  0,   3,  37,  32],\n",
      "        [  0,   3,  42,  58],\n",
      "        [  0,   3,  52,  72],\n",
      "        [  0,   3,  55,  47],\n",
      "        [  0,   3,  56,  42],\n",
      "        [  0,   3,  56,  45],\n",
      "        [  0,   3,  56,  72],\n",
      "        [  0,   3,  71, 152],\n",
      "        [  0,   3,  73, 152],\n",
      "        [  0,   3,  75, 152],\n",
      "        [  0,   3,  80,  87],\n",
      "        [  0,   3,  89,  62],\n",
      "        [  0,   3,  89, 117],\n",
      "        [  0,   4,  39,  62],\n",
      "        [  0,   4,  43,  31],\n",
      "        [  0,   4,  47,  76],\n",
      "        [  0,   4,  52,  38],\n",
      "        [  0,   4,  56,  45],\n",
      "        [  0,   4,  58,  64],\n",
      "        [  0,   4,  62,  46],\n",
      "        [  0,   4,  71, 152],\n",
      "        [  0,   4,  83,  92]], device='cuda:0')\n",
      "c break\n",
      "HMS:\n",
      "[[tensor([[ 496.,   24.],\n",
      "        [ 936.,   24.],\n",
      "        [ 336.,  240.],\n",
      "        [ 464.,  320.],\n",
      "        [ 464.,  336.],\n",
      "        [ 376.,  376.],\n",
      "        [ 496.,  472.],\n",
      "        [ 840.,  520.],\n",
      "        [ 272.,  568.],\n",
      "        [1032.,  600.],\n",
      "        [ 552.,  624.],\n",
      "        [1136.,  672.]], device='cuda:0'), tensor([[ 456.,  320.],\n",
      "        [ 256.,  336.],\n",
      "        [ 568.,  400.],\n",
      "        [ 304.,  440.],\n",
      "        [ 360.,  480.],\n",
      "        [ 552.,  480.],\n",
      "        [1192.,  560.],\n",
      "        [ 736.,  632.],\n",
      "        [ 952.,  712.]], device='cuda:0'), tensor([[ 416.,  296.],\n",
      "        [ 288.,  352.],\n",
      "        [ 536.,  392.],\n",
      "        [ 272.,  480.],\n",
      "        [ 392.,  480.],\n",
      "        [ 552.,  520.],\n",
      "        [1160.,  568.],\n",
      "        [1152.,  600.],\n",
      "        [ 768.,  608.],\n",
      "        [ 992.,  672.]], device='cuda:0'), tensor([[ 256.,  296.],\n",
      "        [ 464.,  336.],\n",
      "        [ 576.,  416.],\n",
      "        [ 376.,  440.],\n",
      "        [ 336.,  448.],\n",
      "        [ 360.,  448.],\n",
      "        [ 576.,  448.],\n",
      "        [1216.,  568.],\n",
      "        [1216.,  584.],\n",
      "        [1216.,  600.],\n",
      "        [ 696.,  640.],\n",
      "        [ 496.,  712.],\n",
      "        [ 936.,  712.]], device='cuda:0'), tensor([[ 496.,  312.],\n",
      "        [ 248.,  344.],\n",
      "        [ 608.,  376.],\n",
      "        [ 304.,  416.],\n",
      "        [ 360.,  448.],\n",
      "        [ 512.,  464.],\n",
      "        [ 368.,  496.],\n",
      "        [1216.,  568.],\n",
      "        [ 736.,  664.]], device='cuda:0')]]\n",
      "None\n",
      "FIELDS:\n",
      "['labels', 'keypoints', 'scores']\n",
      "predictions [BoxList(num_boxes=12, image_width=1422, image_height=800, mode=xyxy)]\n"
     ]
    }
   ],
   "source": [
    "test_file = 'bee_test.mp4'\n",
    "frame_index = None\n",
    "images = load_video(test_file,frame_index)\n",
    "image = images[10]\n",
    "ogimg = images[10]\n",
    "# imshow(image)\n",
    "# compute predictions\n",
    "predictions, tps, hm_res, stride, hms, targets = coco_demo.run_on_opencv_image(image)\n",
    "np.shape(hms)\n",
    "hms_tensor = hms.cpu().data.numpy()   \n",
    "peaks = calculate_peaks(5, hms_tensor)    \n",
    "    \n"
   ]
  },
  {
   "cell_type": "code",
   "execution_count": null,
   "metadata": {},
   "outputs": [],
   "source": [
    "print(np.shape(predictions))\n",
    "print(np.shape(targets))"
   ]
  },
  {
   "cell_type": "code",
   "execution_count": null,
   "metadata": {},
   "outputs": [],
   "source": [
    "filename = 'bee_dp_labeled.jpg'\n",
    "cv2.imwrite(filename, predictions[:, :, [2, 1, 0]]) "
   ]
  },
  {
   "cell_type": "code",
   "execution_count": null,
   "metadata": {},
   "outputs": [],
   "source": [
    "print(np.shape(hm_res))\n",
    "print(np.shape(hms_tensor))\n",
    "print(np.ndim(hm_res))\n",
    "print(np.ndim(hms_tensor))\n",
    "print((hm_res[0][0]))\n",
    "print(type(hm_res[0][0]))"
   ]
  },
  {
   "cell_type": "code",
   "execution_count": null,
   "metadata": {},
   "outputs": [],
   "source": [
    "print(hms_tensor[0][0])\n",
    "print(np.shape(hms_tensor[0][0]))\n",
    "print(np.ndim(hms_tensor[0][0]))"
   ]
  },
  {
   "cell_type": "code",
   "execution_count": null,
   "metadata": {},
   "outputs": [],
   "source": [
    "print(np.shape(hms_tensor))\n",
    "print(np.shape(hms_tensor[0][1]))\n",
    "#print(np.ndim(hms_tensor[0][0][0][0].cpu().data.numpy()))"
   ]
  },
  {
   "cell_type": "code",
   "execution_count": null,
   "metadata": {},
   "outputs": [],
   "source": [
    "#print(hm_res)"
   ]
  },
  {
   "cell_type": "code",
   "execution_count": null,
   "metadata": {},
   "outputs": [],
   "source": [
    "from maskrcnn_benchmark.utils import cv2_util\n",
    "import matplotlib.pyplot as plt\n",
    "#cv2.applyColorMap(np.float32(hms_tensor[0][0]), cv2.COLORMAP_JET)"
   ]
  },
  {
   "cell_type": "code",
   "execution_count": null,
   "metadata": {},
   "outputs": [],
   "source": [
    "import numpy as np\n",
    "import math\n",
    "\n",
    "# define vectorized sigmoid\n",
    "sigmoid_v = np.vectorize(sigmoid)\n",
    "\n",
    "# test\n",
    "print(sigmoid_v(hms_tensor[0][0]))"
   ]
  },
  {
   "cell_type": "code",
   "execution_count": null,
   "metadata": {},
   "outputs": [],
   "source": [
    "# First keypoint (tail)\n",
    "#sigmoid_v\n",
    "#arr1 = (hms_tensor[0][0]).astype(np.uint8)\n",
    "#arr1 = cv2.applyColorMap(arr1, cv2.COLORMAP_MAGMA)\n",
    "#imgplotog1 = plt.imshow(ogimg)\n",
    "#plt.show()\n",
    "#imgplot1 = plt.imshow(arr1)\n",
    "#plt.show()\n"
   ]
  },
  {
   "cell_type": "code",
   "execution_count": null,
   "metadata": {
    "scrolled": false
   },
   "outputs": [],
   "source": [
    "#tail keypoint\n",
    "import matplotlib.pyplot as plt\n",
    "from scipy.ndimage import gaussian_filter\n",
    "fig, ax = plt.subplots()\n",
    "data = gaussian_filter(sigmoid_v(hms_tensor[0][0]), sigma=1)\n",
    "ax = plt.gca()\n",
    "ax.invert_yaxis()\n",
    "plt.pcolormesh(data, cmap='YlOrRd', shading='gouraud')\n",
    "fig.canvas.draw()\n",
    "plt.pause(5)\n",
    "#arr1 = (data).astype(np.uint8)\n",
    "#arr1 = cv2.applyColorMap(arr1, cv2.COLORMAP_MAGMA)\n",
    "imgplotog1 = plt.imshow(ogimg)\n",
    "#plt.show()\n",
    "#imgplot1 = plt.imshow(arr1)\n",
    "plt.show()\n",
    "#print(data)"
   ]
  },
  {
   "cell_type": "code",
   "execution_count": null,
   "metadata": {},
   "outputs": [],
   "source": [
    "# Second keypoint (head)\n",
    "arr2 = hms_tensor[0][1].astype(np.uint8)\n",
    "arr2 = cv2.applyColorMap(arr2, cv2.COLORMAP_JET)\n",
    "imgplotog2 = plt.imshow(ogimg)\n",
    "plt.show()\n",
    "imgplot2 = plt.imshow(arr2)\n",
    "plt.show()"
   ]
  },
  {
   "cell_type": "code",
   "execution_count": null,
   "metadata": {},
   "outputs": [],
   "source": [
    "# Third keypoint (thorax)\n",
    "arr3 = hms_tensor[0][2].astype(np.uint8)\n",
    "arr1 = cv2.applyColorMap(arr8, cv2.COLORMAP_JET)\n",
    "imgplotog1 = plt.imshow(ogimg)\n",
    "plt.show()\n",
    "imgplot1 = plt.imshow(arr1)\n",
    "plt.show()"
   ]
  },
  {
   "cell_type": "code",
   "execution_count": null,
   "metadata": {},
   "outputs": [],
   "source": [
    "# First keypoint (right antena)\n",
    "arr1 = hms_tensor[0][0].astype(np.uint8)\n",
    "arr1 = cv2.applyColorMap(arr8, cv2.COLORMAP_JET)\n",
    "imgplotog1 = plt.imshow(ogimg)\n",
    "plt.show()\n",
    "imgplot1 = plt.imshow(arr1)\n",
    "plt.show()"
   ]
  },
  {
   "cell_type": "code",
   "execution_count": null,
   "metadata": {},
   "outputs": [],
   "source": [
    "# Fifth keypoint (left antena)\n",
    "arr1 = hms_tensor[0][0].astype(np.uint8)\n",
    "arr1 = cv2.applyColorMap(arr8, cv2.COLORMAP_JET)\n",
    "imgplotog1 = plt.imshow(ogimg)\n",
    "plt.show()\n",
    "imgplot1 = plt.imshow(arr1)\n",
    "plt.show()"
   ]
  },
  {
   "cell_type": "code",
   "execution_count": null,
   "metadata": {},
   "outputs": [],
   "source": [
    "filename = 'AAA_B1'+'.jpg'\n",
    "cv2.imwrite(filename, predictions[:, :, [2, 1, 0]]) "
   ]
  },
  {
   "cell_type": "code",
   "execution_count": null,
   "metadata": {},
   "outputs": [],
   "source": [
    "np.shape(peaks[4])"
   ]
  },
  {
   "cell_type": "code",
   "execution_count": null,
   "metadata": {},
   "outputs": [],
   "source": [
    "import torch\n",
    "masks_per_dim = 5\n",
    "result = torch.zeros(\n",
    "            (masks_per_dim * 800, masks_per_dim * 1422), dtype=torch.uint8)"
   ]
  },
  {
   "cell_type": "code",
   "execution_count": null,
   "metadata": {},
   "outputs": [],
   "source": [
    "np.shape(result.numpy())"
   ]
  },
  {
   "cell_type": "code",
   "execution_count": null,
   "metadata": {},
   "outputs": [],
   "source": [
    "print(stride)"
   ]
  },
  {
   "cell_type": "code",
   "execution_count": null,
   "metadata": {},
   "outputs": [],
   "source": []
  }
 ],
 "metadata": {
  "kernelspec": {
   "display_name": "Python 3",
   "language": "python",
   "name": "python3"
  },
  "language_info": {
   "codemirror_mode": {
    "name": "ipython",
    "version": 3
   },
   "file_extension": ".py",
   "mimetype": "text/x-python",
   "name": "python",
   "nbconvert_exporter": "python",
   "pygments_lexer": "ipython3",
   "version": "3.7.0"
  }
 },
 "nbformat": 4,
 "nbformat_minor": 1
}
