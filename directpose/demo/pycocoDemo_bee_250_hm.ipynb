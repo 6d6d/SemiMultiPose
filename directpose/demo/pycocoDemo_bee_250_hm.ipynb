{
 "cells": [
  {
   "cell_type": "code",
   "execution_count": 30,
   "metadata": {},
   "outputs": [],
   "source": [
    "import matplotlib.pyplot as plt\n",
    "import matplotlib.pylab as pylab\n",
    "import cv2\n",
    "\n",
    "import requests\n",
    "from io import BytesIO\n",
    "from PIL import Image\n",
    "import numpy as np\n",
    "\n",
    "from moviepy.editor import VideoFileClip\n",
    "\n",
    "# this makes our figures bigger\n",
    "pylab.rcParams['figure.figsize'] = 20, 12\n",
    "\n",
    "from maskrcnn_benchmark.config import cfg\n",
    "from maskrcnn_benchmark.structures.keypoint import keypoints_to_heat_map\n",
    "from maskrcnn_benchmark.modeling.roi_heads.keypoint_head.loss import project_keypoints_to_heatmap\n",
    "from predictor import COCODemo"
   ]
  },
  {
   "cell_type": "code",
   "execution_count": 31,
   "metadata": {},
   "outputs": [],
   "source": [
    "config_file = \"/home/bsb2144/directpose/configs/fcos/fcos_kps_ms_training_R_50_FPN_1x.yaml\"\n",
    "\n",
    "cfg.merge_from_file(\"/home/bsb2144/directpose/configs/fcos/fcos_kps_ms_training_R_50_FPN_1x.yaml\")\n",
    "cfg.merge_from_list(['DATALOADER.NUM_WORKERS', '2', \\\n",
    "                     'DATATYPE', 'bee', \\\n",
    "                     'OUTPUT_DIR', 'training_dir_v3_hm/fcos_kps_ms_training_R_50_FPN_1x_bee1', \\\n",
    "                     'MODEL.WEIGHT', '/home/bsb2144/directpose/tools/training_dir_v3_hm/fcos_kps_ms_training_R_50_FPN_1x_bee/model_final.pth',\\\n",
    "                     'DATASETS.TEST', \"('bee_val_cocostyle',)\",\\\n",
    "                     'DATASETS.TRAIN', \"('bee_train_cocostyle', )\",\\\n",
    "                    ])\n",
    "\n"
   ]
  },
  {
   "cell_type": "code",
   "execution_count": 32,
   "metadata": {},
   "outputs": [],
   "source": [
    "coco_demo = COCODemo(\n",
    "    cfg,\n",
    "    min_image_size=800,\n",
    "    confidence_threshold=0.2,\n",
    ")\n"
   ]
  },
  {
   "cell_type": "code",
   "execution_count": 33,
   "metadata": {},
   "outputs": [],
   "source": [
    "def load(img_path):\n",
    "    \"\"\"\n",
    "    Given an url of an image, downloads the image and\n",
    "    returns a PIL image\n",
    "    \"\"\"\n",
    "    \n",
    "    pil_image = Image.open(img_path).convert(\"RGB\")\n",
    "    # convert to BGR format\n",
    "    image = np.array(pil_image)[:, :, [2, 1, 0]]\n",
    "    return image\n",
    "\n",
    "def load_video(video_path,frame_id=[0]):\n",
    "    \"\"\"\n",
    "    Given an url of an image, downloads the image and\n",
    "    returns a PIL image\n",
    "    \"\"\"\n",
    "    \n",
    "    video_clip = VideoFileClip(video_path)\n",
    "    if frame_id is None:\n",
    "        nframes = int(video_clip.fps * video_clip.duration)\n",
    "        frame_id = range(nframes)\n",
    "    images = []\n",
    "    for i in frame_id:\n",
    "        image = video_clip.get_frame(i/video_clip.fps)\n",
    "        # convert to BGR format\n",
    "        image = np.array(image)[:, :, [2, 1, 0]]\n",
    "        images += [image]\n",
    "    video_clip.close()\n",
    "    \n",
    "    return images\n",
    "\n",
    "def imshow(img):\n",
    "    plt.imshow(img[:, :, [2, 1, 0]])\n",
    "    plt.axis(\"off\")"
   ]
  },
  {
   "cell_type": "code",
   "execution_count": 34,
   "metadata": {},
   "outputs": [],
   "source": [
    "#keypoints_to_heat_map(1,1,1)"
   ]
  },
  {
   "cell_type": "code",
   "execution_count": 35,
   "metadata": {
    "scrolled": false
   },
   "outputs": [],
   "source": [
    "#test_file = 'bee_test.mp4'\n",
    "#frame_index = None\n",
    "#images = load_video(test_file,frame_index)\n",
    "\n",
    "#save_file = 'bee_test_pred.mp4'\n",
    "#fourcc = cv2.VideoWriter_fourcc(*'XVID')\n",
    "#dd1,dd2 = images[0].shape[0],images[0].shape[1]\n",
    "#out = cv2.VideoWriter(save_file, fourcc, 20.0, (dd2,dd1))\n",
    "#for image in images:\n",
    "    # compute predictions\n",
    " #   predictions = coco_demo.run_on_opencv_image(image)\n",
    "\n",
    "  #  out.write(predictions[:, :, [2, 1, 0]].astype(np.uint8))\n",
    "#out.release()\n",
    "\n"
   ]
  },
  {
   "cell_type": "code",
   "execution_count": 36,
   "metadata": {},
   "outputs": [],
   "source": [
    "#BUILDING OWN VISUALIZER\n",
    "\n",
    "#1. obtain heatmap\n",
    "#2. use function to get peaks\n",
    "#3. Overlay peaks onto image\n",
    "#4. voila"
   ]
  },
  {
   "cell_type": "code",
   "execution_count": 37,
   "metadata": {},
   "outputs": [],
   "source": [
    "#test_file = 'bee_test.mp4'\n",
    "#frame_index = None\n",
    "#images = load_video(test_file,frame_index)\n",
    "\n",
    "#save_file = 'bee_test_pred.mp4'\n",
    "#fourcc = cv2.VideoWriter_fourcc(*'XVID')\n",
    "#dd1,dd2 = images[0].shape[0],images[0].shape[1]\n",
    "#out = cv2.VideoWriter(save_file, fourcc, 20.0, (dd2,dd1))\n",
    "# compute predictions\n",
    "#predictions, tp, hm_res, stride, hms = coco_demo.run_on_opencv_image(images[0])\n",
    "#print(predictions)\n",
    "\n",
    "#    out.write(predictions[:, :, [2, 1, 0]].astype(np.uint8))\n",
    "#out.release()\n"
   ]
  },
  {
   "cell_type": "code",
   "execution_count": 38,
   "metadata": {},
   "outputs": [],
   "source": [
    "#print(hms)"
   ]
  },
  {
   "cell_type": "code",
   "execution_count": 39,
   "metadata": {},
   "outputs": [],
   "source": [
    "#print(tp.get_field('keypoints'))"
   ]
  },
  {
   "cell_type": "code",
   "execution_count": 40,
   "metadata": {},
   "outputs": [],
   "source": [
    "#kps = tp.get_field('keypoints')\n",
    "#ds = cfg.MODEL.ROI_MASK_HEAD.RESOLUTION"
   ]
  },
  {
   "cell_type": "code",
   "execution_count": 41,
   "metadata": {},
   "outputs": [],
   "source": [
    "#(keypoints, rois, heatmap_size)\n",
    "#keypoints_to_heat_map(kps,,1)"
   ]
  },
  {
   "cell_type": "code",
   "execution_count": 42,
   "metadata": {},
   "outputs": [],
   "source": [
    "#hms, valid = project_keypoints_to_heatmap(kps, tp, ds)"
   ]
  },
  {
   "cell_type": "code",
   "execution_count": 43,
   "metadata": {},
   "outputs": [],
   "source": [
    "# num keypoints per animal, heatmap\n",
    "def calculate_peaks(numparts, heatmap_avg):\n",
    "    score = np.ones((numparts,)) * 0.000001\n",
    "    all_peaks = []\n",
    "    peak_counter = 0\n",
    "    if len(score) < numparts:\n",
    "        score = score[:numparts]\n",
    "        ##logger.ERROR(‘Not enough scores provided for number of parts’)\n",
    "        # return\n",
    "    # threshold_detection = params[‘thre1’]\n",
    "    # tic_localmax=time.time()\n",
    "    for part in range(numparts):\n",
    "        map_ori = heatmap_avg[:, :, part]\n",
    "        map = map_ori\n",
    "        map_left = np.zeros(map.shape)\n",
    "        map_left[1:, :] = map[:-1, :]\n",
    "        map_right = np.zeros(map.shape)\n",
    "        map_right[:-1, :] = map[1:, :]\n",
    "        map_up = np.zeros(map.shape)\n",
    "        map_up[:, 1:] = map[:, :-1]\n",
    "        map_down = np.zeros(map.shape)\n",
    "        map_down[:, :-1] = map[:, 1:]\n",
    "        peaks_binary = np.logical_and(np.logical_and(np.logical_and(map >= map_left, map >= map_right),\n",
    "                                                     np.logical_and(map >= map_up, map >= map_down)), map > score[part])\n",
    "        peaks = list(zip(np.nonzero(peaks_binary)[1], np.nonzero(peaks_binary)[0]))  # note reverse\n",
    "        peaks_with_score_and_id = [x + (map_ori[x[1], x[0]], i + peak_counter,) for i, x in\n",
    "                                   enumerate(peaks)]  # if x[0]>0 and x[1]>0 ]\n",
    "        all_peaks.append(peaks_with_score_and_id)\n",
    "        peak_counter += len(peaks)\n",
    "    return all_peaks\n",
    "\n"
   ]
  },
  {
   "cell_type": "code",
   "execution_count": 53,
   "metadata": {
    "scrolled": true
   },
   "outputs": [
    {
     "name": "stdout",
     "output_type": "stream",
     "text": [
      "coords\n",
      "tensor([[  0,   0,  16, 109],\n",
      "        [  0,   0,  19,  89],\n",
      "        [  0,   0,  21, 148],\n",
      "        [  0,   0,  51,  46],\n",
      "        [  0,   0,  52, 155],\n",
      "        [  0,   0,  56,  94],\n",
      "        [  0,   0,  57, 121],\n",
      "        [  0,   0,  72,  99],\n",
      "        [  0,   0,  72, 122],\n",
      "        [  0,   0,  74, 152],\n",
      "        [  0,   1,   8, 143],\n",
      "        [  0,   1,  12,  91],\n",
      "        [  0,   1,  37,  98],\n",
      "        [  0,   1,  57, 112],\n",
      "        [  0,   1,  59, 146],\n",
      "        [  0,   1,  61,  32],\n",
      "        [  0,   1,  67, 136],\n",
      "        [  0,   1,  67, 155],\n",
      "        [  0,   1,  79, 140],\n",
      "        [  0,   1,  82, 113],\n",
      "        [  0,   2,  13,  99],\n",
      "        [  0,   2,  13, 145],\n",
      "        [  0,   2,  29,  94],\n",
      "        [  0,   2,  57, 105],\n",
      "        [  0,   2,  58,  38],\n",
      "        [  0,   2,  60, 154],\n",
      "        [  0,   2,  63, 131],\n",
      "        [  0,   2,  67, 146],\n",
      "        [  0,   2,  77, 133],\n",
      "        [  0,   2,  78, 104],\n",
      "        [  0,   3,   0,  96],\n",
      "        [  0,   3,   6, 146],\n",
      "        [  0,   3,  10,  92],\n",
      "        [  0,   3,  41,  97],\n",
      "        [  0,   3,  57,  28],\n",
      "        [  0,   3,  57, 148],\n",
      "        [  0,   3,  61, 116],\n",
      "        [  0,   3,  69, 156],\n",
      "        [  0,   3,  71, 136],\n",
      "        [  0,   3,  83, 140],\n",
      "        [  0,   3,  85, 112],\n",
      "        [  0,   4,   0,  97],\n",
      "        [  0,   4,   4, 142],\n",
      "        [  0,   4,  15,  91],\n",
      "        [  0,   4,  39, 103],\n",
      "        [  0,   4,  54, 117],\n",
      "        [  0,   4,  58, 144],\n",
      "        [  0,   4,  64, 138],\n",
      "        [  0,   4,  66,  30],\n",
      "        [  0,   4,  68, 157],\n",
      "        [  0,   4,  78, 144],\n",
      "        [  0,   4,  82, 116]], device='cuda:0')\n",
      "c break\n",
      "[BoxList(num_boxes=0, image_width=1422, image_height=800, mode=xyxy)]\n",
      "None\n",
      "R\n",
      "T\n",
      "HMS:\n",
      "[[tensor([[ 872.,  128.],\n",
      "        [ 712.,  152.],\n",
      "        [1184.,  168.],\n",
      "        [ 368.,  408.],\n",
      "        [1240.,  416.],\n",
      "        [ 752.,  448.],\n",
      "        [ 968.,  456.],\n",
      "        [ 792.,  576.],\n",
      "        [ 976.,  576.],\n",
      "        [1216.,  592.]], device='cuda:0'), tensor([[1144.,   64.],\n",
      "        [ 728.,   96.],\n",
      "        [ 784.,  296.],\n",
      "        [ 896.,  456.],\n",
      "        [1168.,  472.],\n",
      "        [ 256.,  488.],\n",
      "        [1088.,  536.],\n",
      "        [1240.,  536.],\n",
      "        [1120.,  632.],\n",
      "        [ 904.,  656.]], device='cuda:0'), tensor([[ 792.,  104.],\n",
      "        [1160.,  104.],\n",
      "        [ 752.,  232.],\n",
      "        [ 840.,  456.],\n",
      "        [ 304.,  464.],\n",
      "        [1232.,  480.],\n",
      "        [1048.,  504.],\n",
      "        [1168.,  536.],\n",
      "        [1064.,  616.],\n",
      "        [ 832.,  624.]], device='cuda:0'), tensor([[ 768.,    0.],\n",
      "        [1168.,   48.],\n",
      "        [ 736.,   80.],\n",
      "        [ 776.,  328.],\n",
      "        [ 224.,  456.],\n",
      "        [1184.,  456.],\n",
      "        [ 928.,  488.],\n",
      "        [1248.,  552.],\n",
      "        [1088.,  568.],\n",
      "        [1120.,  664.],\n",
      "        [ 896.,  680.]], device='cuda:0'), tensor([[ 776.,    0.],\n",
      "        [1136.,   32.],\n",
      "        [ 728.,  120.],\n",
      "        [ 824.,  312.],\n",
      "        [ 936.,  432.],\n",
      "        [1152.,  464.],\n",
      "        [1104.,  512.],\n",
      "        [ 240.,  528.],\n",
      "        [1256.,  544.],\n",
      "        [1152.,  624.],\n",
      "        [ 928.,  656.]], device='cuda:0')]]\n",
      "None\n",
      "FIELDS:\n",
      "['keypoints', 'labels', 'scores']\n",
      "predictions [BoxList(num_boxes=0, image_width=1422, image_height=800, mode=xyxy)]\n"
     ]
    }
   ],
   "source": [
    "test_file = 'train_ex.jpg'\n",
    "frame_index = None\n",
    "image = load(test_file)\n",
    "#image = images[10]\n",
    "ogimg = image\n",
    "# imshow(image)\n",
    "# compute predictions\n",
    "predictions, tps, hm_res, stride, hms, targets = coco_demo.run_on_opencv_image(image)\n",
    "np.shape(hms)\n",
    "hms_tensor = hms.cpu().data.numpy()   \n",
    "peaks = calculate_peaks(5, hms_tensor)    \n",
    "    \n"
   ]
  },
  {
   "cell_type": "code",
   "execution_count": 54,
   "metadata": {},
   "outputs": [
    {
     "name": "stdout",
     "output_type": "stream",
     "text": [
      "(1440, 2560, 3)\n",
      "()\n"
     ]
    }
   ],
   "source": [
    "print(np.shape(predictions))\n",
    "print(np.shape(targets))"
   ]
  },
  {
   "cell_type": "code",
   "execution_count": 55,
   "metadata": {},
   "outputs": [
    {
     "data": {
      "text/plain": [
       "True"
      ]
     },
     "execution_count": 55,
     "metadata": {},
     "output_type": "execute_result"
    }
   ],
   "source": [
    "filename = 'bee_dp_labeled_train.jpg'\n",
    "cv2.imwrite(filename, predictions[:, :, [2, 1, 0]]) "
   ]
  },
  {
   "cell_type": "code",
   "execution_count": 56,
   "metadata": {},
   "outputs": [],
   "source": [
    "from maskrcnn_benchmark.utils import cv2_util\n",
    "import matplotlib.pyplot as plt\n",
    "#cv2.applyColorMap(np.float32(hms_tensor[0][0]), cv2.COLORMAP_JET)"
   ]
  },
  {
   "cell_type": "code",
   "execution_count": 57,
   "metadata": {},
   "outputs": [
    {
     "name": "stdout",
     "output_type": "stream",
     "text": [
      "[[6.04067283e-03 2.35079373e-03 1.96227587e-03 ... 1.09150352e-03\n",
      "  1.57542584e-03 6.84034615e-03]\n",
      " [2.02744898e-03 6.34259943e-04 6.14597292e-04 ... 1.89376741e-04\n",
      "  3.32732719e-04 2.01571433e-03]\n",
      " [1.68201510e-03 6.62660478e-04 8.63350698e-04 ... 1.47479291e-04\n",
      "  2.45874385e-04 1.62302269e-03]\n",
      " ...\n",
      " [1.45115999e-03 2.28273459e-04 2.58555558e-04 ... 3.08391578e-04\n",
      "  2.74356303e-04 1.50339029e-03]\n",
      " [7.18383962e-04 8.48565058e-05 7.22987274e-05 ... 2.30884830e-04\n",
      "  1.98186475e-04 1.28914532e-03]\n",
      " [5.36726825e-03 9.13823191e-04 8.03319315e-04 ... 2.33001153e-03\n",
      "  2.14219302e-03 6.96241722e-03]]\n"
     ]
    }
   ],
   "source": [
    "import numpy as np\n",
    "import math\n",
    "\n",
    "def sigmoid(x):\n",
    "  return 1 / (1 + math.exp(-x))\n",
    "# define vectorized sigmoid\n",
    "sigmoid_v = np.vectorize(sigmoid)\n",
    "\n",
    "# test\n",
    "print(sigmoid_v(hms_tensor[0][0]))"
   ]
  },
  {
   "cell_type": "code",
   "execution_count": 58,
   "metadata": {},
   "outputs": [],
   "source": [
    "# First keypoint (tail)\n",
    "#sigmoid_v\n",
    "#arr1 = (hms_tensor[0][0]).astype(np.uint8)\n",
    "#arr1 = cv2.applyColorMap(arr1, cv2.COLORMAP_MAGMA)\n",
    "#imgplotog1 = plt.imshow(ogimg)\n",
    "#plt.show()\n",
    "#imgplot1 = plt.imshow(arr1)\n",
    "#plt.show()\n"
   ]
  },
  {
   "cell_type": "code",
   "execution_count": 59,
   "metadata": {
    "scrolled": false
   },
   "outputs": [
    {
     "data": {
      "image/png": "[encoded data removed]",
      "text/plain": [
       "<Figure size 244.08x151.2 with 1 Axes>"
      ]
     },
     "metadata": {
      "needs_background": "light"
     },
     "output_type": "display_data"
    },
    {
     "data": {
      "image/png": "[encoded data removed]",
      "text/plain": [
       "<Figure size 244.08x151.2 with 1 Axes>"
      ]
     },
     "metadata": {
      "needs_background": "light"
     },
     "output_type": "display_data"
    },
    {
     "data": {
      "image/png": "[encoded data removed]",
      "text/plain": [
       "<Figure size 244.08x151.2 with 1 Axes>"
      ]
     },
     "metadata": {
      "needs_background": "light"
     },
     "output_type": "display_data"
    }
   ],
   "source": [
    "#tail keypoint\n",
    "import matplotlib.pyplot as plt\n",
    "from scipy.ndimage import gaussian_filter\n",
    "fig, ax = plt.subplots()\n",
    "data = gaussian_filter(sigmoid_v(hms_tensor[0][0]), sigma=1)\n",
    "ax = plt.gca()\n",
    "ax.invert_yaxis()\n",
    "plt.pcolormesh(data, cmap='YlOrRd', shading='gouraud')\n",
    "fig.canvas.draw()\n",
    "plt.pause(5)\n",
    "#arr1 = (data).astype(np.uint8)\n",
    "#arr1 = cv2.applyColorMap(arr1, cv2.COLORMAP_MAGMA)\n",
    "imgplotog1 = plt.imshow(ogimg)\n",
    "#plt.show()\n",
    "#imgplot1 = plt.imshow(arr1)\n",
    "plt.show()\n",
    "plt.pause(5)\n",
    "img = predictions[:, :, [2, 1, 0]]\n",
    "b,g,r = cv2.split(img)       # get b,g,r\n",
    "img = cv2.merge([r,g,b])     # switch it to rgb\n",
    "imp = plt.imshow(img)\n",
    "plt.show()\n",
    "plt.pause(5)\n",
    "#print(data)"
   ]
  },
  {
   "cell_type": "code",
   "execution_count": 60,
   "metadata": {},
   "outputs": [],
   "source": [
    "import matplotlib\n",
    "import matplotlib.pyplot as plt\n",
    "from mpl_toolkits.axes_grid1.axes_divider import make_axes_locatable\n",
    "import numpy as np\n",
    "import matplotlib.colorbar as colorbar\n",
    "num_plots = 3\n",
    "# sample data\n",
    "params = {\n",
    "    'text.latex.preamble': ['\\\\usepackage{gensymb}'],\n",
    "    'image.origin': 'lower',\n",
    "    'image.interpolation': 'nearest',\n",
    "    'image.cmap': 'jet',\n",
    "    'axes.grid': False,\n",
    "    'savefig.dpi': 150,  # to adjust notebook inline plot size\n",
    "    'axes.labelsize': 10, # fontsize for x and y labels (was 10)\n",
    "    'axes.titlesize': 12,\n",
    "    'font.size': 12, # was 10\n",
    "    'legend.fontsize': 10, # was 10\n",
    "    'xtick.labelsize': 10,\n",
    "    'ytick.labelsize': 10,\n",
    "    #'text.usetex': True,\n",
    "    'figure.figsize': [3.39, 2.10],\n",
    "    'font.family': 'serif',\n",
    "}\n",
    "matplotlib.rcParams.update(params)"
   ]
  },
  {
   "cell_type": "code",
   "execution_count": null,
   "metadata": {},
   "outputs": [],
   "source": [
    "fig, ax = plt.subplots(1,1,figsize=(12,8))\n",
    "ax.invert_yaxis()\n",
    "ax.set_title('min {:.2f} max {:.2f}'.format(data.min(), data.max()))\n",
    "im = ax.imshow(data, interpolation='none', vmin= data.min(), vmax=data.max())\n",
    "cbar = fig.colorbar(im, ax=ax)\n",
    "plt.show()\n"
   ]
  },
  {
   "cell_type": "code",
   "execution_count": null,
   "metadata": {},
   "outputs": [],
   "source": [
    "# Second keypoint (head)\n",
    "arr2 = hms_tensor[0][1].astype(np.uint8)\n",
    "arr2 = cv2.applyColorMap(arr2, cv2.COLORMAP_JET)\n",
    "imgplotog2 = plt.imshow(ogimg)\n",
    "plt.show()\n",
    "imgplot2 = plt.imshow(arr2)\n",
    "plt.show()"
   ]
  },
  {
   "cell_type": "code",
   "execution_count": null,
   "metadata": {},
   "outputs": [],
   "source": []
  },
  {
   "cell_type": "code",
   "execution_count": null,
   "metadata": {},
   "outputs": [],
   "source": [
    "# Third keypoint (thorax)\n",
    "arr3 = hms_tensor[0][2].astype(np.uint8)\n",
    "arr1 = cv2.applyColorMap(arr8, cv2.COLORMAP_JET)\n",
    "imgplotog1 = plt.imshow(ogimg)\n",
    "plt.show()\n",
    "imgplot1 = plt.imshow(arr1)\n",
    "plt.show()"
   ]
  },
  {
   "cell_type": "code",
   "execution_count": null,
   "metadata": {},
   "outputs": [],
   "source": [
    "# First keypoint (right antena)\n",
    "arr1 = hms_tensor[0][0].astype(np.uint8)\n",
    "arr1 = cv2.applyColorMap(arr8, cv2.COLORMAP_JET)\n",
    "imgplotog1 = plt.imshow(ogimg)\n",
    "plt.show()\n",
    "imgplot1 = plt.imshow(arr1)\n",
    "plt.show()"
   ]
  },
  {
   "cell_type": "code",
   "execution_count": null,
   "metadata": {},
   "outputs": [],
   "source": [
    "# Fifth keypoint (left antena)\n",
    "arr1 = hms_tensor[0][0].astype(np.uint8)\n",
    "arr1 = cv2.applyColorMap(arr8, cv2.COLORMAP_JET)\n",
    "imgplotog1 = plt.imshow(ogimg)\n",
    "plt.show()\n",
    "imgplot1 = plt.imshow(arr1)\n",
    "plt.show()"
   ]
  },
  {
   "cell_type": "code",
   "execution_count": null,
   "metadata": {},
   "outputs": [],
   "source": [
    "filename = 'AAA_B1'+'.jpg'\n",
    "cv2.imwrite(filename, predictions[:, :, [2, 1, 0]]) "
   ]
  },
  {
   "cell_type": "code",
   "execution_count": null,
   "metadata": {},
   "outputs": [],
   "source": [
    "np.shape(peaks[4])"
   ]
  },
  {
   "cell_type": "code",
   "execution_count": null,
   "metadata": {},
   "outputs": [],
   "source": [
    "import torch\n",
    "masks_per_dim = 5\n",
    "result = torch.zeros(\n",
    "            (masks_per_dim * 800, masks_per_dim * 1422), dtype=torch.uint8)"
   ]
  },
  {
   "cell_type": "code",
   "execution_count": null,
   "metadata": {},
   "outputs": [],
   "source": [
    "np.shape(result.numpy())"
   ]
  },
  {
   "cell_type": "code",
   "execution_count": null,
   "metadata": {},
   "outputs": [],
   "source": [
    "print(stride)"
   ]
  },
  {
   "cell_type": "code",
   "execution_count": null,
   "metadata": {},
   "outputs": [],
   "source": []
  }
 ],
 "metadata": {
  "kernelspec": {
   "display_name": "Python 3",
   "language": "python",
   "name": "python3"
  },
  "language_info": {
   "codemirror_mode": {
    "name": "ipython",
    "version": 3
   },
   "file_extension": ".py",
   "mimetype": "text/x-python",
   "name": "python",
   "nbconvert_exporter": "python",
   "pygments_lexer": "ipython3",
   "version": "3.7.0"
  }
 },
 "nbformat": 4,
 "nbformat_minor": 1
}
