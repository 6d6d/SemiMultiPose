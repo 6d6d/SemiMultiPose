{
 "cells": [
  {
   "cell_type": "code",
   "execution_count": null,
   "metadata": {},
   "outputs": [],
   "source": [
    "import matplotlib.pyplot as plt\n",
    "import matplotlib.pylab as pylab\n",
    "import cv2\n",
    "\n",
    "import requests\n",
    "from io import BytesIO\n",
    "from PIL import Image\n",
    "import numpy as np\n",
    "\n",
    "from moviepy.editor import VideoFileClip\n",
    "\n",
    "# this makes our figures bigger\n",
    "pylab.rcParams['figure.figsize'] = 20, 12\n",
    "\n",
    "from maskrcnn_benchmark.config import cfg\n",
    "from predictor import COCODemo"
   ]
  },
  {
   "cell_type": "code",
   "execution_count": null,
   "metadata": {},
   "outputs": [],
   "source": [
    "config_file = \"/home/bsb2144/directpose/configs/fcos/fcos_kps_ms_training_R_50_FPN_1x.yaml\"\n",
    "\n",
    "cfg.merge_from_file(\"/home/bsb2144/directpose/configs/fcos/fcos_kps_ms_training_R_50_FPN_1x.yaml\")\n",
    "centroid = False\n",
    "if centroid:\n",
    "    cfg.merge_from_list(['DATALOADER.NUM_WORKERS', '2', \\\n",
    "                     'DATATYPE', 'fly', \\\n",
    "                     'MODEL.ANIMAL_ON', 'True', \\\n",
    "                     'MODEL.FCOS_ON', 'False', \\\n",
    "                     'OUTPUT_DIR', 'training_dir/fcos_kps_ms_training_R_50_FPN_1x_drosophila1', \\\n",
    "                     'MODEL.WEIGHT', '/home/bsb2144/directpose/tools/training_dir/fcos_kps_ms_training_R_50_FPN_1x_drosophila_cenG13/model_final.pth',\\\n",
    "                     'DATASETS.TEST', \"('drosophila_val_cocostyle',)\",\\\n",
    "                     'DATASETS.TRAIN', \"('drosophila_val_cocostyle', )\",\\\n",
    "                     'MODEL.CENTROID', \"False\",\\\n",
    "                     'MODEL.FCOS.INFERENCE_TH','0.001',\\\n",
    "                    ])\n",
    "else:\n",
    "    cfg.merge_from_list(['DATALOADER.NUM_WORKERS', '2', \\\n",
    "                     'DATATYPE', 'fly', \\\n",
    "                     'MODEL.ANIMAL_ON', 'False', \\\n",
    "                     'MODEL.FCOS_ON', 'True', \\\n",
    "                     'OUTPUT_DIR', 'training_dir/fcos_kps_ms_training_R_50_FPN_1x_drosophila1', \\\n",
    "                     'MODEL.WEIGHT', '/home/bsb2144/directpose/tools/training_dir/fcos_kps_ms_training_R_50_FPN_1x_drosophila_G13/model_final.pth',\\\n",
    "                     'DATASETS.TEST', \"('drosophila_val_cocostyle',)\",\\\n",
    "                     'DATASETS.TRAIN', \"('drosophila_val_cocostyle', )\",\\\n",
    "                     'MODEL.CENTROID', \"True\",\\\n",
    "                     'MODEL.FCOS.INFERENCE_TH','0.001',\\\n",
    "                    ])\n"
   ]
  },
  {
   "cell_type": "code",
   "execution_count": null,
   "metadata": {},
   "outputs": [],
   "source": [
    "imgsize = 1200\n",
    "coco_demo = COCODemo(\n",
    "    cfg,\n",
    "    min_image_size=imgsize,\n",
    "    confidence_threshold=0.1,\n",
    ")\n"
   ]
  },
  {
   "cell_type": "code",
   "execution_count": null,
   "metadata": {},
   "outputs": [],
   "source": [
    "import cv2 \n",
    "def load(img_path):\n",
    "    \"\"\"\n",
    "    Given an url of an image, downloads the image and\n",
    "    returns a PIL image\n",
    "    \"\"\"\n",
    "    pil_image = cv2.imread(img_path)  \n",
    "    # convert to BGR format\n",
    "    image = np.array(pil_image)[:, :, [2, 1, 0]]\n",
    "    return image\n",
    "\n",
    "def imshow(img):\n",
    "    plt.imshow(img[:, :, [2, 1, 0]])\n",
    "    plt.axis(\"off\")"
   ]
  },
  {
   "cell_type": "code",
   "execution_count": null,
   "metadata": {
    "scrolled": false
   },
   "outputs": [],
   "source": [
    "from os import listdir\n",
    "from os.path import isfile, join\n",
    "\n",
    "# mypath = '/home/bsb2144/directpose/tools/datasets/drosophila/train'\n",
    "# onlyfiles = [f for f in listdir(mypath) if isfile(join(mypath, f)) and (f.find('DS_Store')<0)]\n",
    "\n",
    "mypath = ''\n",
    "onlyfiles = ['dro_test_frame.png','dro_test_frame1.png','dro_test_frame_crop.png']"
   ]
  },
  {
   "cell_type": "code",
   "execution_count": null,
   "metadata": {},
   "outputs": [],
   "source": [
    "for im in onlyfiles:\n",
    "    image = load(im)\n",
    "    # imshow(image)\n",
    "    # compute predictions\n",
    "    predictions = coco_demo.run_on_opencv_image(image)\n",
    "    \n",
    "    filename = 'dro_labeled/'+im[:-4]+'_labeled'+str(imgsize)+'_cen'+str(centroid)+'.jpg'\n",
    "    cv2.imwrite(filename, predictions[:, :, [2, 1, 0]]) "
   ]
  },
  {
   "cell_type": "code",
   "execution_count": null,
   "metadata": {},
   "outputs": [],
   "source": []
  },
  {
   "cell_type": "code",
   "execution_count": null,
   "metadata": {},
   "outputs": [],
   "source": []
  }
 ],
 "metadata": {
  "kernelspec": {
   "display_name": "Python 3",
   "language": "python",
   "name": "python3"
  },
  "language_info": {
   "codemirror_mode": {
    "name": "ipython",
    "version": 3
   },
   "file_extension": ".py",
   "mimetype": "text/x-python",
   "name": "python",
   "nbconvert_exporter": "python",
   "pygments_lexer": "ipython3",
   "version": "3.7.0"
  }
 },
 "nbformat": 4,
 "nbformat_minor": 1
}
